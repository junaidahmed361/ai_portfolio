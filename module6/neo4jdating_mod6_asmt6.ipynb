{
 "cells": [
  {
   "cell_type": "code",
   "execution_count": 1,
   "metadata": {},
   "outputs": [],
   "source": [
    "# !pip install neo4j"
   ]
  },
  {
   "cell_type": "code",
   "execution_count": 2,
   "metadata": {},
   "outputs": [],
   "source": [
    "from neo4j import GraphDatabase\n",
    "import pandas as pd\n",
    "import numpy as np"
   ]
  },
  {
   "attachments": {},
   "cell_type": "markdown",
   "metadata": {},
   "source": [
    "##### Setup ODBC using neo4j"
   ]
  },
  {
   "cell_type": "code",
   "execution_count": 3,
   "metadata": {},
   "outputs": [],
   "source": [
    "URI = \"bolt://localhost:7687\"\n",
    "AUTH = (\"neo4j\", \"jhunaidneo4j\")\n",
    "\n",
    "with GraphDatabase.driver(URI, auth=AUTH) as driver:\n",
    "    driver.verify_connectivity()"
   ]
  },
  {
   "attachments": {},
   "cell_type": "markdown",
   "metadata": {},
   "source": [
    "##### Understand the schema"
   ]
  },
  {
   "cell_type": "code",
   "execution_count": 4,
   "metadata": {},
   "outputs": [
    {
     "name": "stdout",
     "output_type": "stream",
     "text": [
      "<Record nodes=[<Node element_id='-1' labels=frozenset({'Person'}) properties={'name': 'Person', 'indexes': [], 'constraints': []}>] relationships=[<Relationship element_id='-1' nodes=(<Node element_id='-1' labels=frozenset({'Person'}) properties={'name': 'Person', 'indexes': [], 'constraints': []}>, <Node element_id='-1' labels=frozenset({'Person'}) properties={'name': 'Person', 'indexes': [], 'constraints': []}>) type='Date' properties={}>]>\n"
     ]
    }
   ],
   "source": [
    "# get database schema\n",
    "with driver.session() as session:\n",
    "    # visualize database schema\n",
    "    result = session.run(\"CALL db.schema.visualization\")\n",
    "    for record in result:\n",
    "        print(record)"
   ]
  },
  {
   "attachments": {},
   "cell_type": "markdown",
   "metadata": {},
   "source": [
    "##### Determine the ratio of males to females"
   ]
  },
  {
   "cell_type": "code",
   "execution_count": 5,
   "metadata": {},
   "outputs": [
    {
     "name": "stdout",
     "output_type": "stream",
     "text": [
      "Males: 268; Females: 274\n",
      "0.9781021897810219\n",
      "(8809961314856153, 9007199254740992)\n"
     ]
    }
   ],
   "source": [
    "# determine the ratio of females to males\n",
    "with driver.session() as session:\n",
    "    # get count of genders in the database and divide by total\n",
    "    db_query = \"\"\"MATCH (n:Person) WHERE (n.gender) is not null RETURN n.gender as gender\"\"\"\n",
    "    result = session.run(db_query)\n",
    "\n",
    "    males = 0\n",
    "    females = 0\n",
    "    for record in result:\n",
    "        # find the gender of the record\n",
    "        gender = record.get('gender')\n",
    "        if gender == 0:\n",
    "            males += 1\n",
    "        else:\n",
    "            females += 1\n",
    "\n",
    "# print the ratio of males to females\n",
    "print(f\"Males: {males}; Females: {females}\")\n",
    "ratio = males / females\n",
    "print(ratio)\n",
    "print(ratio.as_integer_ratio())"
   ]
  },
  {
   "attachments": {},
   "cell_type": "markdown",
   "metadata": {},
   "source": [
    "It is almost a 1:1 set of males to females, so the dataset is balanced in regards to gender."
   ]
  },
  {
   "attachments": {},
   "cell_type": "markdown",
   "metadata": {},
   "source": [
    "##### Determine the percentage of matches"
   ]
  },
  {
   "cell_type": "code",
   "execution_count": 6,
   "metadata": {},
   "outputs": [
    {
     "name": "stdout",
     "output_type": "stream",
     "text": [
      "0.96\n"
     ]
    }
   ],
   "source": [
    "with driver.session() as session:\n",
    "    db_query = \"MATCH p=()-[r:Date]->() RETURN p LIMIT 25\"\n",
    "    result = session.run(db_query)\n",
    "    matches_found = 0\n",
    "    for record in result:\n",
    "        # get the match\n",
    "        p = record.get('p')\n",
    "        p = p.graph\n",
    "        # get the matches\n",
    "        matches = [r['match'] for r in p.relationships if r.type == 'Date']\n",
    "        # if there are any matches, then the two nodes are connected\n",
    "        if any(matches):\n",
    "            matches_found += 1\n",
    "    # print the % of matches found\n",
    "    print(matches_found/len(matches))"
   ]
  },
  {
   "attachments": {},
   "cell_type": "markdown",
   "metadata": {},
   "source": [
    "According to the data, there seems to be 96% of dates that were matches."
   ]
  },
  {
   "attachments": {},
   "cell_type": "markdown",
   "metadata": {},
   "source": [
    "##### Reasoning for selected applicable columns towards supervised learning"
   ]
  },
  {
   "attachments": {},
   "cell_type": "markdown",
   "metadata": {},
   "source": [
    "I think the columns I might use to identify a match would be: id, gender, race, age, age_diff, and match. These few columns should be sufficient. The relevance that id provides is the one to many aspect in which a single participant may go on multiple speed dates. Gender, race, age, and age_diff should help paint a picture of the demographics of the speed daters and which combinations of demographics led to success, which is indicated by the match column."
   ]
  },
  {
   "attachments": {},
   "cell_type": "markdown",
   "metadata": {},
   "source": [
    "##### Query the relevant data according to the selected columns"
   ]
  },
  {
   "cell_type": "code",
   "execution_count": 7,
   "metadata": {},
   "outputs": [],
   "source": [
    "db_query = \"MATCH p=()-[r:Date]->() RETURN p LIMIT 25\"\n",
    "data = {}\n",
    "\n",
    "def unpack_df(df: pd.DataFrame, col: str) -> pd.DataFrame:\n",
    "    \"\"\"Unpacks a column in a dataframe into its own columns\"\"\"\n",
    "    temp_df = df[col].apply(pd.Series)\n",
    "    if col == 'src_speed_dater':\n",
    "        temp_col = 'src_'\n",
    "    elif col == 'trg_speed_dater':\n",
    "        temp_col = 'trg_'\n",
    "    else:\n",
    "        temp_col = ''\n",
    "    # use the first element of the tuple as the column name\n",
    "    temp_df.columns = [temp_col + str(tup[0]) for tup in temp_df.iloc[0]]\n",
    "    # use the second element of the tuple as the value for each row\n",
    "    temp_df = temp_df.applymap(lambda x: x[1])\n",
    "    # drop the original column\n",
    "    df = df.drop(col, axis=1)\n",
    "    # join the two dataframes\n",
    "    df = df.join(temp_df)\n",
    "\n",
    "    return df\n",
    "\n",
    "with driver.session() as session:\n",
    "    result = session.run(db_query)\n",
    "    records = [record for record in result]\n",
    "    for record in records:\n",
    "        g = record.get('p').graph\n",
    "        rels = [rel for rel in g.relationships if rel.type == 'Date']\n",
    "        # get start node id, gender, race, age\n",
    "        for rel in rels:\n",
    "            data[rel.element_id] = {}\n",
    "            data[rel.element_id]['src_speed_dater'] = rel.start_node.items()\n",
    "            data[rel.element_id]['trg_speed_dater'] = rel.end_node.items()\n",
    "            data[rel.element_id]['result'] = rel.items()\n",
    "\n",
    "        \n",
    "    # create a pandas dataframe to store the id, gender, race, age, age_diff, and match columns\n",
    "    df = pd.DataFrame.from_dict(data, orient='index')\n",
    "    # unpack the columns into their own columns and drop the original columns from the dataframe, making the first element of the tuple the column name and the second element the value\n",
    "    df = unpack_df(df, 'src_speed_dater')\n",
    "    df = unpack_df(df, 'trg_speed_dater')\n",
    "    df = unpack_df(df, 'result')\n",
    "\n",
    "    # reindex the dataframe\n",
    "    df = df.reset_index().drop('index', axis=1)\n",
    "\n",
    "    # drop the race_diff and int_corr columns\n",
    "    df.drop(['race_diff','int_corr'], axis=1, inplace=True)"
   ]
  },
  {
   "cell_type": "code",
   "execution_count": 8,
   "metadata": {},
   "outputs": [
    {
     "data": {
      "text/html": [
       "<div>\n",
       "<style scoped>\n",
       "    .dataframe tbody tr th:only-of-type {\n",
       "        vertical-align: middle;\n",
       "    }\n",
       "\n",
       "    .dataframe tbody tr th {\n",
       "        vertical-align: top;\n",
       "    }\n",
       "\n",
       "    .dataframe thead th {\n",
       "        text-align: right;\n",
       "    }\n",
       "</style>\n",
       "<table border=\"1\" class=\"dataframe\">\n",
       "  <thead>\n",
       "    <tr style=\"text-align: right;\">\n",
       "      <th></th>\n",
       "      <th>src_gender</th>\n",
       "      <th>src_race</th>\n",
       "      <th>src_id</th>\n",
       "      <th>src_age</th>\n",
       "      <th>trg_gender</th>\n",
       "      <th>trg_race</th>\n",
       "      <th>trg_id</th>\n",
       "      <th>trg_age</th>\n",
       "      <th>age_diff</th>\n",
       "      <th>match</th>\n",
       "    </tr>\n",
       "  </thead>\n",
       "  <tbody>\n",
       "    <tr>\n",
       "      <th>0</th>\n",
       "      <td>0</td>\n",
       "      <td>4</td>\n",
       "      <td>1</td>\n",
       "      <td>21</td>\n",
       "      <td>1</td>\n",
       "      <td>2</td>\n",
       "      <td>20</td>\n",
       "      <td>24</td>\n",
       "      <td>3</td>\n",
       "      <td>0</td>\n",
       "    </tr>\n",
       "    <tr>\n",
       "      <th>1</th>\n",
       "      <td>0</td>\n",
       "      <td>4</td>\n",
       "      <td>1</td>\n",
       "      <td>21</td>\n",
       "      <td>1</td>\n",
       "      <td>2</td>\n",
       "      <td>19</td>\n",
       "      <td>28</td>\n",
       "      <td>7</td>\n",
       "      <td>1</td>\n",
       "    </tr>\n",
       "    <tr>\n",
       "      <th>2</th>\n",
       "      <td>0</td>\n",
       "      <td>4</td>\n",
       "      <td>1</td>\n",
       "      <td>21</td>\n",
       "      <td>1</td>\n",
       "      <td>2</td>\n",
       "      <td>18</td>\n",
       "      <td>27</td>\n",
       "      <td>6</td>\n",
       "      <td>0</td>\n",
       "    </tr>\n",
       "    <tr>\n",
       "      <th>3</th>\n",
       "      <td>0</td>\n",
       "      <td>4</td>\n",
       "      <td>1</td>\n",
       "      <td>21</td>\n",
       "      <td>1</td>\n",
       "      <td>2</td>\n",
       "      <td>17</td>\n",
       "      <td>30</td>\n",
       "      <td>9</td>\n",
       "      <td>0</td>\n",
       "    </tr>\n",
       "    <tr>\n",
       "      <th>4</th>\n",
       "      <td>0</td>\n",
       "      <td>4</td>\n",
       "      <td>1</td>\n",
       "      <td>21</td>\n",
       "      <td>1</td>\n",
       "      <td>2</td>\n",
       "      <td>16</td>\n",
       "      <td>25</td>\n",
       "      <td>4</td>\n",
       "      <td>0</td>\n",
       "    </tr>\n",
       "  </tbody>\n",
       "</table>\n",
       "</div>"
      ],
      "text/plain": [
       "   src_gender  src_race src_id  src_age  trg_gender  trg_race trg_id  trg_age  \\\n",
       "0           0         4      1       21           1         2     20       24   \n",
       "1           0         4      1       21           1         2     19       28   \n",
       "2           0         4      1       21           1         2     18       27   \n",
       "3           0         4      1       21           1         2     17       30   \n",
       "4           0         4      1       21           1         2     16       25   \n",
       "\n",
       "   age_diff  match  \n",
       "0         3      0  \n",
       "1         7      1  \n",
       "2         6      0  \n",
       "3         9      0  \n",
       "4         4      0  "
      ]
     },
     "execution_count": 8,
     "metadata": {},
     "output_type": "execute_result"
    }
   ],
   "source": [
    "df.head()"
   ]
  },
  {
   "attachments": {},
   "cell_type": "markdown",
   "metadata": {},
   "source": [
    "##### Create a supervised model to predict a match"
   ]
  },
  {
   "cell_type": "code",
   "execution_count": 9,
   "metadata": {},
   "outputs": [],
   "source": [
    "from sklearn.ensemble import RandomForestClassifier\n",
    "from sklearn.model_selection import train_test_split\n",
    "from sklearn.metrics import accuracy_score"
   ]
  },
  {
   "cell_type": "code",
   "execution_count": 10,
   "metadata": {},
   "outputs": [],
   "source": [
    "# split the data into training and testing sets\n",
    "X = df.drop('match', axis=1)\n",
    "y = df['match']\n",
    "X_train, X_test, y_train, y_test = train_test_split(X, y, test_size=0.2, random_state=42)"
   ]
  },
  {
   "cell_type": "code",
   "execution_count": 11,
   "metadata": {},
   "outputs": [],
   "source": [
    "# instantiate the model\n",
    "rfc = RandomForestClassifier(n_estimators=100, random_state=42)\n",
    "clf = rfc.fit(X_train, y_train)\n",
    "preds = clf.predict(X_test)"
   ]
  },
  {
   "cell_type": "code",
   "execution_count": 12,
   "metadata": {},
   "outputs": [
    {
     "name": "stdout",
     "output_type": "stream",
     "text": [
      "0.2\n"
     ]
    }
   ],
   "source": [
    "# print the accuracy score\n",
    "acc = accuracy_score(y_test, preds)\n",
    "print(acc)"
   ]
  }
 ],
 "metadata": {
  "kernelspec": {
   "display_name": "base",
   "language": "python",
   "name": "python3"
  },
  "language_info": {
   "codemirror_mode": {
    "name": "ipython",
    "version": 3
   },
   "file_extension": ".py",
   "mimetype": "text/x-python",
   "name": "python",
   "nbconvert_exporter": "python",
   "pygments_lexer": "ipython3",
   "version": "3.9.10"
  },
  "orig_nbformat": 4,
  "vscode": {
   "interpreter": {
    "hash": "c09eba647b8d70b3d77d95a196a06e20c288fa38d38a79f121fdfc7fd4bc62d6"
   }
  }
 },
 "nbformat": 4,
 "nbformat_minor": 2
}
